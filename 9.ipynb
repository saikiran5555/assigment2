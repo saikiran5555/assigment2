{
 "cells": [
  {
   "cell_type": "markdown",
   "id": "23c5ce87",
   "metadata": {},
   "source": [
    "9.To create a variable named name and assign my full name to it as a string, and then print the value of this variable, you can follow these steps:"
   ]
  },
  {
   "cell_type": "code",
   "execution_count": 1,
   "id": "8590835d",
   "metadata": {},
   "outputs": [
    {
     "name": "stdout",
     "output_type": "stream",
     "text": [
      "Sara Sai Kiran\n"
     ]
    }
   ],
   "source": [
    "name = \"Sara Sai Kiran\"\n",
    "print(name)\n"
   ]
  },
  {
   "cell_type": "code",
   "execution_count": null,
   "id": "3b8538a9",
   "metadata": {},
   "outputs": [],
   "source": []
  }
 ],
 "metadata": {
  "kernelspec": {
   "display_name": "Python 3 (ipykernel)",
   "language": "python",
   "name": "python3"
  },
  "language_info": {
   "codemirror_mode": {
    "name": "ipython",
    "version": 3
   },
   "file_extension": ".py",
   "mimetype": "text/x-python",
   "name": "python",
   "nbconvert_exporter": "python",
   "pygments_lexer": "ipython3",
   "version": "3.10.9"
  }
 },
 "nbformat": 4,
 "nbformat_minor": 5
}
