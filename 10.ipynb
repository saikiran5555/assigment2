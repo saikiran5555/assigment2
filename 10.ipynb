{
 "cells": [
  {
   "cell_type": "markdown",
   "id": "65735a5e",
   "metadata": {},
   "source": [
    "10.To extract the substring \"World\" from the string \"Hello, World!\", you can use string slicing in Python. Here's the code to achieve that:"
   ]
  },
  {
   "cell_type": "code",
   "execution_count": 1,
   "id": "76ef23f7",
   "metadata": {},
   "outputs": [
    {
     "name": "stdout",
     "output_type": "stream",
     "text": [
      "World\n"
     ]
    }
   ],
   "source": [
    "string = \"Hello, World!\"\n",
    "substring = string[7:12]\n",
    "print(substring)\n"
   ]
  },
  {
   "cell_type": "code",
   "execution_count": null,
   "id": "dc46c95d",
   "metadata": {},
   "outputs": [],
   "source": []
  }
 ],
 "metadata": {
  "kernelspec": {
   "display_name": "Python 3 (ipykernel)",
   "language": "python",
   "name": "python3"
  },
  "language_info": {
   "codemirror_mode": {
    "name": "ipython",
    "version": 3
   },
   "file_extension": ".py",
   "mimetype": "text/x-python",
   "name": "python",
   "nbconvert_exporter": "python",
   "pygments_lexer": "ipython3",
   "version": "3.10.9"
  }
 },
 "nbformat": 4,
 "nbformat_minor": 5
}
