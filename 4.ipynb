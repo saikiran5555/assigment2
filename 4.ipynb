{
 "cells": [
  {
   "cell_type": "markdown",
   "id": "0ada4efa",
   "metadata": {},
   "source": [
    "4.To write and execute a Python script from the command line, we can follow these steps:\n",
    "\n",
    "Open a text editor and create a new file. Write our Python code in this file and save it with a .py extension. For example, let's create a file named script.py.\n",
    "\n",
    "Open the command line or terminal on your computer.\n",
    "\n",
    "Navigate to the directory where you saved the Python script. we can use the cd command (change directory) to navigate through the directory structure."
   ]
  },
  {
   "cell_type": "code",
   "execution_count": null,
   "id": "cce91ecc",
   "metadata": {},
   "outputs": [],
   "source": [
    "cd path/to/directory\n"
   ]
  },
  {
   "cell_type": "markdown",
   "id": "755ab2ab",
   "metadata": {},
   "source": [
    "Once we are in the correct directory, we can run the Python script by typing python followed by the name of the script file."
   ]
  },
  {
   "cell_type": "code",
   "execution_count": null,
   "id": "50d095dc",
   "metadata": {},
   "outputs": [],
   "source": [
    "python script.py\n"
   ]
  },
  {
   "cell_type": "markdown",
   "id": "7bcd4543",
   "metadata": {},
   "source": [
    "If we have multiple versions of Python installed on your system, you may need to specify the version explicitly. For example, if we have both Python 2 and Python 3 installed, we can use python3 instead of python to execute the script with Python 3."
   ]
  },
  {
   "cell_type": "code",
   "execution_count": null,
   "id": "47d57197",
   "metadata": {},
   "outputs": [],
   "source": [
    "python3 script.py\n"
   ]
  },
  {
   "cell_type": "markdown",
   "id": "78c46757",
   "metadata": {},
   "source": [
    "Press the Enter key, and the Python script will be executed. The output, if any, will be displayed in the command line."
   ]
  }
 ],
 "metadata": {
  "kernelspec": {
   "display_name": "Python 3 (ipykernel)",
   "language": "python",
   "name": "python3"
  },
  "language_info": {
   "codemirror_mode": {
    "name": "ipython",
    "version": 3
   },
   "file_extension": ".py",
   "mimetype": "text/x-python",
   "name": "python",
   "nbconvert_exporter": "python",
   "pygments_lexer": "ipython3",
   "version": "3.10.9"
  }
 },
 "nbformat": 4,
 "nbformat_minor": 5
}
