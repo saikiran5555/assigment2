{
 "cells": [
  {
   "cell_type": "markdown",
   "id": "7ac9be22",
   "metadata": {},
   "source": [
    "1.In Python, we can use the hash symbol (#) to create a single-line comment. Any text that follows the hash symbol on the same line will be ignored by the Python interpreter. "
   ]
  },
  {
   "cell_type": "code",
   "execution_count": 3,
   "id": "0af393bc",
   "metadata": {},
   "outputs": [
    {
     "name": "stdout",
     "output_type": "stream",
     "text": [
      "Hello, World!\n"
     ]
    }
   ],
   "source": [
    "# This is a single-line comment\n",
    "print(\"Hello, World!\")  # This is another comment"
   ]
  },
  {
   "cell_type": "markdown",
   "id": "b9823a24",
   "metadata": {},
   "source": [
    "Different types of code:\n",
    "Triple quotes (''' or \"\"\"): You can enclose multiple lines of text within triple quotes to create a multi-line comment.\n",
    "   "
   ]
  },
  {
   "cell_type": "code",
   "execution_count": 4,
   "id": "2cfd11bb",
   "metadata": {},
   "outputs": [
    {
     "name": "stdout",
     "output_type": "stream",
     "text": [
      "Hello, World!\n"
     ]
    }
   ],
   "source": [
    "'''\n",
    "This is a multi-line comment.\n",
    "It can span across multiple lines.\n",
    "'''\n",
    "print(\"Hello, World!\")\n"
   ]
  }
 ],
 "metadata": {
  "kernelspec": {
   "display_name": "Python 3 (ipykernel)",
   "language": "python",
   "name": "python3"
  },
  "language_info": {
   "codemirror_mode": {
    "name": "ipython",
    "version": 3
   },
   "file_extension": ".py",
   "mimetype": "text/x-python",
   "name": "python",
   "nbconvert_exporter": "python",
   "pygments_lexer": "ipython3",
   "version": "3.10.9"
  }
 },
 "nbformat": 4,
 "nbformat_minor": 5
}
