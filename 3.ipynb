{
 "cells": [
  {
   "cell_type": "markdown",
   "id": "3f2cbbda",
   "metadata": {},
   "source": [
    "3.In Python, we can convert one data type to another using type conversion functions or techniques. Here are some commonly used methods for data type conversion:"
   ]
  },
  {
   "cell_type": "markdown",
   "id": "f9f40ce9",
   "metadata": {},
   "source": [
    "Explicit Type Conversion (Type Casting): we can use built-in functions to explicitly convert one data type to another. The syntax is new_data_type(value). Here are a few examples:"
   ]
  },
  {
   "cell_type": "code",
   "execution_count": 1,
   "id": "85b1c48b",
   "metadata": {},
   "outputs": [
    {
     "name": "stdout",
     "output_type": "stream",
     "text": [
      "10\n",
      "20\n",
      "3.14\n"
     ]
    }
   ],
   "source": [
    "# Integer to string\n",
    "num = 10\n",
    "num_str = str(num)\n",
    "print(num_str)  \n",
    "\n",
    "# String to integer\n",
    "num_str = \"20\"\n",
    "num = int(num_str)\n",
    "print(num) \n",
    "\n",
    "# String to float\n",
    "float_str = \"3.14\"\n",
    "float_num = float(float_str)\n",
    "print(float_num) "
   ]
  },
  {
   "cell_type": "markdown",
   "id": "6a342505",
   "metadata": {},
   "source": [
    "Implicit Type Conversion (Automatic Type Conversion): Python automatically performs type conversion in certain situations, such as when performing operations between different data types. For example:"
   ]
  },
  {
   "cell_type": "code",
   "execution_count": 2,
   "id": "6f9d1927",
   "metadata": {},
   "outputs": [
    {
     "name": "stdout",
     "output_type": "stream",
     "text": [
      "13.14\n",
      "The number is: 10\n"
     ]
    }
   ],
   "source": [
    "# Integer and float operation\n",
    "num1 = 10\n",
    "num2 = 3.14\n",
    "result = num1 + num2\n",
    "print(result)\n",
    "\n",
    "# Integer and string concatenation\n",
    "num = 10\n",
    "text = \"The number is: \" + str(num)\n",
    "print(text) \n"
   ]
  },
  {
   "cell_type": "markdown",
   "id": "9af8261a",
   "metadata": {},
   "source": [
    "Using specific conversion functions: Some data types provide specific conversion functions to convert to other data types. For instance, the list(), tuple(), and set() functions can convert objects to lists, tuples, and sets, respectively. Here's an example:"
   ]
  },
  {
   "cell_type": "code",
   "execution_count": 3,
   "id": "df089b52",
   "metadata": {},
   "outputs": [
    {
     "name": "stdout",
     "output_type": "stream",
     "text": [
      "['H', 'e', 'l', 'l', 'o']\n"
     ]
    }
   ],
   "source": [
    "# String to list\n",
    "str_val = \"Hello\"\n",
    "list_val = list(str_val)\n",
    "print(list_val) "
   ]
  },
  {
   "cell_type": "markdown",
   "id": "2c4556f7",
   "metadata": {},
   "source": [
    "Using the format() method or f-strings: When working with strings, we can use the format() method or f-strings to convert values to strings and include them within the larger string. Here's an example:"
   ]
  },
  {
   "cell_type": "code",
   "execution_count": 4,
   "id": "74b3ff4d",
   "metadata": {},
   "outputs": [
    {
     "name": "stdout",
     "output_type": "stream",
     "text": [
      "I am 25 years old\n",
      "I am 25 years old\n"
     ]
    }
   ],
   "source": [
    "# Format method\n",
    "age = 25\n",
    "message = \"I am {} years old\".format(age)\n",
    "print(message) \n",
    "\n",
    "# f-strings\n",
    "age = 25\n",
    "message = f\"I am {age} years old\"\n",
    "print(message) \n"
   ]
  },
  {
   "cell_type": "code",
   "execution_count": null,
   "id": "a557dcd2",
   "metadata": {},
   "outputs": [],
   "source": []
  }
 ],
 "metadata": {
  "kernelspec": {
   "display_name": "Python 3 (ipykernel)",
   "language": "python",
   "name": "python3"
  },
  "language_info": {
   "codemirror_mode": {
    "name": "ipython",
    "version": 3
   },
   "file_extension": ".py",
   "mimetype": "text/x-python",
   "name": "python",
   "nbconvert_exporter": "python",
   "pygments_lexer": "ipython3",
   "version": "3.10.9"
  }
 },
 "nbformat": 4,
 "nbformat_minor": 5
}
