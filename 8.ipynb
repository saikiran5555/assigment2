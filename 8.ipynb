{
 "cells": [
  {
   "cell_type": "markdown",
   "id": "363d3e68",
   "metadata": {},
   "source": [
    "The variable named price assigned with the value 9.99 belongs to the data type called \"float\" or \"floating-point number.\""
   ]
  },
  {
   "cell_type": "markdown",
   "id": "073e219c",
   "metadata": {},
   "source": [
    "A float is a data type used to represent decimal or floating-point numbers in many programming languages. It can store fractional values and is typically used for values that require more precision than integers. In this case, the value 9.99 contains a decimal point, indicating that it is a floating-point number."
   ]
  },
  {
   "cell_type": "markdown",
   "id": "90c255a8",
   "metadata": {},
   "source": [
    "Here's an example of declaring the variable price and assigning the value 9.99 to it in Python:"
   ]
  },
  {
   "cell_type": "code",
   "execution_count": 1,
   "id": "ce347862",
   "metadata": {},
   "outputs": [
    {
     "name": "stdout",
     "output_type": "stream",
     "text": [
      "9.99\n"
     ]
    }
   ],
   "source": [
    "price = 9.99\n",
    "print(price)"
   ]
  },
  {
   "cell_type": "code",
   "execution_count": null,
   "id": "65ffda92",
   "metadata": {},
   "outputs": [],
   "source": []
  }
 ],
 "metadata": {
  "kernelspec": {
   "display_name": "Python 3 (ipykernel)",
   "language": "python",
   "name": "python3"
  },
  "language_info": {
   "codemirror_mode": {
    "name": "ipython",
    "version": 3
   },
   "file_extension": ".py",
   "mimetype": "text/x-python",
   "name": "python",
   "nbconvert_exporter": "python",
   "pygments_lexer": "ipython3",
   "version": "3.10.9"
  }
 },
 "nbformat": 4,
 "nbformat_minor": 5
}
