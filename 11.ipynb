{
 "cells": [
  {
   "cell_type": "markdown",
   "id": "13c37aed",
   "metadata": {},
   "source": [
    "11.To create a variable named \"is_student\" and assign it a boolean value indicating whether you are currently a student or not, you can use the following code:"
   ]
  },
  {
   "cell_type": "code",
   "execution_count": null,
   "id": "daf257ab",
   "metadata": {},
   "outputs": [],
   "source": [
    "is_student = True\n"
   ]
  },
  {
   "cell_type": "markdown",
   "id": "6fb71b0e",
   "metadata": {},
   "source": [
    "in this example, the variable \"is_student\" is assigned the boolean value True, which indicates that you are currently a student. If you are not a student, you can assign the value False instead."
   ]
  },
  {
   "cell_type": "markdown",
   "id": "d9d130f0",
   "metadata": {},
   "source": [
    "By assigning the appropriate boolean value to the \"is_student\" variable, you can indicate your current student status."
   ]
  }
 ],
 "metadata": {
  "kernelspec": {
   "display_name": "Python 3 (ipykernel)",
   "language": "python",
   "name": "python3"
  },
  "language_info": {
   "codemirror_mode": {
    "name": "ipython",
    "version": 3
   },
   "file_extension": ".py",
   "mimetype": "text/x-python",
   "name": "python",
   "nbconvert_exporter": "python",
   "pygments_lexer": "ipython3",
   "version": "3.10.9"
  }
 },
 "nbformat": 4,
 "nbformat_minor": 5
}
