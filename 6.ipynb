{
 "cells": [
  {
   "cell_type": "markdown",
   "id": "cf708624",
   "metadata": {},
   "source": [
    "6.In mathematics, a complex number is a number that can be expressed in the form \"a + bi\", where \"a\" and \"b\" are real numbers, and \"i\" is the imaginary unit defined by the property \"i^2 = -1\". The real part of the complex number is denoted by \"a\", and the imaginary part is denoted by \"b\". Complex numbers extend the real numbers by introducing the imaginary unit \"i\", allowing for the representation of numbers that cannot be expressed as real numbers.\n",
    "\n",
    "In Python, complex numbers can be represented using the built-in complex class. The syntax to create a complex number in Python is as follows:"
   ]
  },
  {
   "cell_type": "code",
   "execution_count": null,
   "id": "e81e8423",
   "metadata": {},
   "outputs": [],
   "source": [
    "z = complex(a, b)\n"
   ]
  },
  {
   "cell_type": "markdown",
   "id": "05e4dda7",
   "metadata": {},
   "source": [
    "You can also create a complex number using a shorthand notation, where you append \"j\" or \"J\" to the imaginary part instead of using the complex() function:"
   ]
  },
  {
   "cell_type": "code",
   "execution_count": null,
   "id": "c56fc4de",
   "metadata": {},
   "outputs": [],
   "source": [
    "z = a + bj\n"
   ]
  },
  {
   "cell_type": "markdown",
   "id": "2590c074",
   "metadata": {},
   "source": [
    "Here's an example of creating and manipulating complex numbers in Python:"
   ]
  },
  {
   "cell_type": "code",
   "execution_count": 2,
   "id": "416decaf",
   "metadata": {},
   "outputs": [],
   "source": [
    "# Creating complex numbers\n",
    "z1 = complex(3, 4)   # 3 + 4i\n",
    "z2 = 2 + 5j          # 2 + 5i\n",
    "\n",
    "# Accessing real and imaginary parts\n",
    "real_part = z1.real  # 3.0\n",
    "imag_part = z1.imag  # 4.0\n",
    "\n",
    "# Arithmetic operations\n",
    "addition = z1 + z2   # (3 + 4i) + (2 + 5i) = 5 + 9i\n",
    "subtraction = z1 - z2   # (3 + 4i) - (2 + 5i) = 1 - i\n",
    "multiplication = z1 * z2   # (3 + 4i) * (2 + 5i) = -14 + 23i\n",
    "division = z1 / z2   # (3 + 4i) / (2 + 5i) = 0.7804878048780488 + 0.0487804878048781i\n"
   ]
  },
  {
   "cell_type": "code",
   "execution_count": null,
   "id": "a379a2fb",
   "metadata": {},
   "outputs": [],
   "source": []
  },
  {
   "cell_type": "code",
   "execution_count": null,
   "id": "0f60241e",
   "metadata": {},
   "outputs": [],
   "source": []
  }
 ],
 "metadata": {
  "kernelspec": {
   "display_name": "Python 3 (ipykernel)",
   "language": "python",
   "name": "python3"
  },
  "language_info": {
   "codemirror_mode": {
    "name": "ipython",
    "version": 3
   },
   "file_extension": ".py",
   "mimetype": "text/x-python",
   "name": "python",
   "nbconvert_exporter": "python",
   "pygments_lexer": "ipython3",
   "version": "3.10.9"
  }
 },
 "nbformat": 4,
 "nbformat_minor": 5
}
