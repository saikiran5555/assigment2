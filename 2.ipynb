{
 "cells": [
  {
   "cell_type": "markdown",
   "id": "2b9cdd56",
   "metadata": {},
   "source": [
    "2.In Python, variables are used to store and refer to data values. A variable is essentially a named location in the computer's memory where you can store information. You can assign different types of values to variables, such as numbers, strings, lists, or more complex objects."
   ]
  },
  {
   "cell_type": "markdown",
   "id": "3cdc768f",
   "metadata": {},
   "source": [
    "To declare and assign a value to a variable in Python, you simply choose a name for the variable and use the assignment operator (=) to associate a value with that name."
   ]
  },
  {
   "cell_type": "code",
   "execution_count": null,
   "id": "24a45d38",
   "metadata": {},
   "outputs": [],
   "source": [
    "# Variable declaration and assignment\n",
    "age = 25\n",
    "name = \"sai\""
   ]
  },
  {
   "cell_type": "markdown",
   "id": "add90d7c",
   "metadata": {},
   "source": [
    "In the example above, we declare and assign two variables. The variable age is assigned the value 25, and the variable name is assigned the string \"sai\".we can also assign a new value to an existing variable, effectively changing its value. Here's an example:"
   ]
  },
  {
   "cell_type": "code",
   "execution_count": 1,
   "id": "8284d3c9",
   "metadata": {},
   "outputs": [
    {
     "name": "stdout",
     "output_type": "stream",
     "text": [
      "25\n",
      "30\n"
     ]
    }
   ],
   "source": [
    "# Variable reassignment\n",
    "age = 25\n",
    "print(age) \n",
    "\n",
    "age = 30\n",
    "print(age) \n"
   ]
  },
  {
   "cell_type": "markdown",
   "id": "5c6a62e4",
   "metadata": {},
   "source": [
    "In the example above, we first assign the value 25 to the variable age, and then we reassign it a new value of 30. The second assignment overwrites the previous value of age."
   ]
  }
 ],
 "metadata": {
  "kernelspec": {
   "display_name": "Python 3 (ipykernel)",
   "language": "python",
   "name": "python3"
  },
  "language_info": {
   "codemirror_mode": {
    "name": "ipython",
    "version": 3
   },
   "file_extension": ".py",
   "mimetype": "text/x-python",
   "name": "python",
   "nbconvert_exporter": "python",
   "pygments_lexer": "ipython3",
   "version": "3.10.9"
  }
 },
 "nbformat": 4,
 "nbformat_minor": 5
}
